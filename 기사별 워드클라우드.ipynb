{
 "cells": [
  {
   "cell_type": "code",
   "execution_count": 4,
   "metadata": {},
   "outputs": [],
   "source": [
    "import os\n",
    "import re"
   ]
  },
  {
   "cell_type": "code",
   "execution_count": 2,
   "metadata": {},
   "outputs": [
    {
     "data": {
      "text/plain": [
       "['.ipynb_checkpoints',\n",
       " 'chromedriver.exe',\n",
       " 'document.xlsx',\n",
       " 'file-counts_.xlsx',\n",
       " 'file_0519_01.txt',\n",
       " '기사_2020',\n",
       " '기사_2020.xlsx',\n",
       " '기사별 워드클라우드.ipynb',\n",
       " '기자별 기사.ipynb']"
      ]
     },
     "execution_count": 2,
     "metadata": {},
     "output_type": "execute_result"
    }
   ],
   "source": [
    "os.listdir()"
   ]
  },
  {
   "cell_type": "code",
   "execution_count": 3,
   "metadata": {},
   "outputs": [],
   "source": [
    "from selenium.webdriver import Chrome"
   ]
  },
  {
   "cell_type": "code",
   "execution_count": 4,
   "metadata": {},
   "outputs": [],
   "source": [
    "url='http://news.kbiz.or.kr/news/articleView.html?idxno=67479'"
   ]
  },
  {
   "cell_type": "code",
   "execution_count": 5,
   "metadata": {},
   "outputs": [],
   "source": [
    "import requests\n",
    "import lxml.html"
   ]
  },
  {
   "cell_type": "code",
   "execution_count": 6,
   "metadata": {},
   "outputs": [],
   "source": [
    "res = requests.get(url)"
   ]
  },
  {
   "cell_type": "code",
   "execution_count": 7,
   "metadata": {},
   "outputs": [
    {
     "data": {
      "text/plain": [
       "<Response [200]>"
      ]
     },
     "execution_count": 7,
     "metadata": {},
     "output_type": "execute_result"
    }
   ],
   "source": [
    "res"
   ]
  },
  {
   "cell_type": "code",
   "execution_count": 8,
   "metadata": {},
   "outputs": [],
   "source": [
    "root = lxml.html.fromstring(res.text)"
   ]
  },
  {
   "cell_type": "code",
   "execution_count": 9,
   "metadata": {},
   "outputs": [
    {
     "name": "stdout",
     "output_type": "stream",
     "text": [
      "\n",
      "\t\t이동 설치가 가능해 집안 여러 공간에서 사용할 수 있어 편리\n",
      "냉방면적 26제곱미터… 냉방, 송풍, 제습 등 다양한 기능 갖춰\n",
      "美 비즈니스인사이더, 최고의 이동식 에어컨으로 선정\n",
      "\t\n",
      "\t\t\n",
      "\t\t\n",
      "\tLG전자가 집안의 원하는 곳으로 옮겨 사용할 수 있는 이동식 에어컨을 출시한다.\n",
      "\n",
      "\n",
      "\n",
      "\n",
      "\n",
      "\n",
      "\n",
      "LG전자는 19일부터 28일까지 'LG 이동식 에어컨' 예약판매를 진행하고 29일부터 본격 판매한다.\n",
      "\n",
      "LG 이동식 에어컨은 주방, 공부방 등 집안 여러 공간에서 에어컨을 사용할 수 있어 편리하다. 이사가 잦은 고객의 경우 에어컨을 다시 설치해야 하는 부담을 줄일 수 있다. 실외기 설치가 어려운 공간이나 벽에 구멍을 뚫기 어려운 경우에도 유용하다.\n",
      "\n",
      "신제품은 냉매를 압축하는 실린더가 2개인 듀얼 인버터 컴프레서를 탑재했다. 한 번에 보다 많은 냉매를 압축할 수 있기 때문에 냉방성능과 에너지 효율이 높아져 기존 정속형 모델(LW-C062PEW)보다 하루 4시간 사용기준 에너지를 최대 29% 절약할 수 있다.\n",
      "\n",
      "이 제품의 냉방면적은 26제곱미터(m2)로 냉방, 송풍, 제습 등 다양한 기능을 갖췄다. 바람세기 약풍에서 정음모드를 사용할 경우 소음이 42dB(데시벨)에 불과한 저소음 냉방을 구현했다.\n",
      "\n",
      "LG전자는 고객이 직접 이동식 에어컨을 간편하게 설치해 사용할 수 있도록 한국의 창틀을 고려해 간편설치 키트를 기본 제공한다. 고객은 에어컨을 이용하려는 공간의 창문을 조금 열어 설치 키트를 체결한 후 더운 바람을 내보내는 배관을 연결하면 된다.\n",
      "\n",
      "\n",
      "\n",
      "\n",
      "\n",
      "\n",
      "\n",
      "무선인터넷(Wi-Fi)을 탑재한 모델은 LG 씽큐(LG ThinQ), 구글 어시스턴트, 네이버 클로바 등과 같은 스마트폰 앱과 연동해 원격으로 제품을 모니터링하고 제어하는 게 가능하다. 보다 편리하게 활용할 수 있는 리모컨도 기본 제공된다.\n",
      "\n",
      "LG 이동식 에어컨은 해외에서도 인정받고 있다. 미국 비즈니스 및 테크 전문매체 비즈니스인사이더(Business Insider)는 지난 4월 LG전자 제품을 최고의 이동식 에어컨으로 선정했다. 이 매체는 LG 이동식 에어컨이 최고의 성능을 발휘하면서도 에너지 효율이 높고 조용하다고 평가했다. 차별화된 스마트 기능도 좋은 평가를 받았다.\n",
      "\n",
      "신제품의 가격은 출하가 기준 무선인터넷 탑재 모델이 749,000원, 일반 모델이 699,000원이다.\n",
      "\n",
      "LG전자 H&A사업본부 에어솔루션사업부장 이감규 부사장은 \"다양하게 활용할 수 있는 이동식 에어컨으로 고객들에게 차별화된 가치를 제공하겠다\"고 말했다.\n",
      "\n",
      "    \n",
      "                저작권자 © 중소기업뉴스 무단전재 및 재배포 금지\n",
      "    \n",
      "            \n",
      "            \n",
      "                \n",
      "                                            \n",
      "                                    \n",
      "                임춘호 기자\n",
      "                다른기사 보기            \n",
      "        \n",
      "    \n",
      "\n"
     ]
    }
   ],
   "source": [
    "for contents in root.cssselect('#article-view-content-div'):\n",
    "    print(contents.text_content())"
   ]
  },
  {
   "cell_type": "code",
   "execution_count": 10,
   "metadata": {},
   "outputs": [
    {
     "data": {
      "text/plain": [
       "<Element div at 0x180253fd1d8>"
      ]
     },
     "execution_count": 10,
     "metadata": {},
     "output_type": "execute_result"
    }
   ],
   "source": [
    "contents"
   ]
  },
  {
   "cell_type": "code",
   "execution_count": 11,
   "metadata": {},
   "outputs": [],
   "source": [
    "data = []\n",
    "for review in contents:\n",
    "    text = review.text_content().strip()\n",
    "    text = re.sub(r'\\s+', ' ', text)\n",
    "    data.append((text))"
   ]
  },
  {
   "cell_type": "code",
   "execution_count": 12,
   "metadata": {},
   "outputs": [],
   "source": [
    "import pandas as pd\n",
    "df = pd.DataFrame(data, columns=['content'])"
   ]
  },
  {
   "cell_type": "code",
   "execution_count": 13,
   "metadata": {},
   "outputs": [
    {
     "data": {
      "text/html": [
       "<div>\n",
       "<style scoped>\n",
       "    .dataframe tbody tr th:only-of-type {\n",
       "        vertical-align: middle;\n",
       "    }\n",
       "\n",
       "    .dataframe tbody tr th {\n",
       "        vertical-align: top;\n",
       "    }\n",
       "\n",
       "    .dataframe thead th {\n",
       "        text-align: right;\n",
       "    }\n",
       "</style>\n",
       "<table border=\"1\" class=\"dataframe\">\n",
       "  <thead>\n",
       "    <tr style=\"text-align: right;\">\n",
       "      <th></th>\n",
       "      <th>content</th>\n",
       "    </tr>\n",
       "  </thead>\n",
       "  <tbody>\n",
       "    <tr>\n",
       "      <th>0</th>\n",
       "      <td>이동 설치가 가능해 집안 여러 공간에서 사용할 수 있어 편리 냉방면적 26제곱미터…...</td>\n",
       "    </tr>\n",
       "    <tr>\n",
       "      <th>1</th>\n",
       "      <td>LG전자가 집안의 원하는 곳으로 옮겨 사용할 수 있는 이동식 에어컨을 출시한다.</td>\n",
       "    </tr>\n",
       "    <tr>\n",
       "      <th>2</th>\n",
       "      <td></td>\n",
       "    </tr>\n",
       "    <tr>\n",
       "      <th>3</th>\n",
       "      <td>LG전자는 19일부터 28일까지 'LG 이동식 에어컨' 예약판매를 진행하고 29일부...</td>\n",
       "    </tr>\n",
       "    <tr>\n",
       "      <th>4</th>\n",
       "      <td>LG 이동식 에어컨은 주방, 공부방 등 집안 여러 공간에서 에어컨을 사용할 수 있어...</td>\n",
       "    </tr>\n",
       "    <tr>\n",
       "      <th>5</th>\n",
       "      <td>신제품은 냉매를 압축하는 실린더가 2개인 듀얼 인버터 컴프레서를 탑재했다. 한 번에...</td>\n",
       "    </tr>\n",
       "    <tr>\n",
       "      <th>6</th>\n",
       "      <td>이 제품의 냉방면적은 26제곱미터(m2)로 냉방, 송풍, 제습 등 다양한 기능을 갖...</td>\n",
       "    </tr>\n",
       "    <tr>\n",
       "      <th>7</th>\n",
       "      <td>LG전자는 고객이 직접 이동식 에어컨을 간편하게 설치해 사용할 수 있도록 한국의 창...</td>\n",
       "    </tr>\n",
       "    <tr>\n",
       "      <th>8</th>\n",
       "      <td></td>\n",
       "    </tr>\n",
       "    <tr>\n",
       "      <th>9</th>\n",
       "      <td>무선인터넷(Wi-Fi)을 탑재한 모델은 LG 씽큐(LG ThinQ), 구글 어시스턴...</td>\n",
       "    </tr>\n",
       "    <tr>\n",
       "      <th>10</th>\n",
       "      <td>LG 이동식 에어컨은 해외에서도 인정받고 있다. 미국 비즈니스 및 테크 전문매체 비...</td>\n",
       "    </tr>\n",
       "    <tr>\n",
       "      <th>11</th>\n",
       "      <td>신제품의 가격은 출하가 기준 무선인터넷 탑재 모델이 749,000원, 일반 모델이 ...</td>\n",
       "    </tr>\n",
       "    <tr>\n",
       "      <th>12</th>\n",
       "      <td>LG전자 H&amp;A사업본부 에어솔루션사업부장 이감규 부사장은 \"다양하게 활용할 수 있는...</td>\n",
       "    </tr>\n",
       "    <tr>\n",
       "      <th>13</th>\n",
       "      <td>저작권자 © 중소기업뉴스 무단전재 및 재배포 금지</td>\n",
       "    </tr>\n",
       "    <tr>\n",
       "      <th>14</th>\n",
       "      <td>임춘호 기자 다른기사 보기</td>\n",
       "    </tr>\n",
       "  </tbody>\n",
       "</table>\n",
       "</div>"
      ],
      "text/plain": [
       "                                              content\n",
       "0   이동 설치가 가능해 집안 여러 공간에서 사용할 수 있어 편리 냉방면적 26제곱미터…...\n",
       "1        LG전자가 집안의 원하는 곳으로 옮겨 사용할 수 있는 이동식 에어컨을 출시한다.\n",
       "2                                                    \n",
       "3   LG전자는 19일부터 28일까지 'LG 이동식 에어컨' 예약판매를 진행하고 29일부...\n",
       "4   LG 이동식 에어컨은 주방, 공부방 등 집안 여러 공간에서 에어컨을 사용할 수 있어...\n",
       "5   신제품은 냉매를 압축하는 실린더가 2개인 듀얼 인버터 컴프레서를 탑재했다. 한 번에...\n",
       "6   이 제품의 냉방면적은 26제곱미터(m2)로 냉방, 송풍, 제습 등 다양한 기능을 갖...\n",
       "7   LG전자는 고객이 직접 이동식 에어컨을 간편하게 설치해 사용할 수 있도록 한국의 창...\n",
       "8                                                    \n",
       "9   무선인터넷(Wi-Fi)을 탑재한 모델은 LG 씽큐(LG ThinQ), 구글 어시스턴...\n",
       "10  LG 이동식 에어컨은 해외에서도 인정받고 있다. 미국 비즈니스 및 테크 전문매체 비...\n",
       "11  신제품의 가격은 출하가 기준 무선인터넷 탑재 모델이 749,000원, 일반 모델이 ...\n",
       "12  LG전자 H&A사업본부 에어솔루션사업부장 이감규 부사장은 \"다양하게 활용할 수 있는...\n",
       "13                        저작권자 © 중소기업뉴스 무단전재 및 재배포 금지\n",
       "14                                     임춘호 기자 다른기사 보기"
      ]
     },
     "execution_count": 13,
     "metadata": {},
     "output_type": "execute_result"
    }
   ],
   "source": [
    "df"
   ]
  },
  {
   "cell_type": "code",
   "execution_count": 14,
   "metadata": {},
   "outputs": [],
   "source": [
    "df.to_excel('document.xlsx', index= False)"
   ]
  },
  {
   "cell_type": "code",
   "execution_count": 15,
   "metadata": {},
   "outputs": [],
   "source": [
    "document = pd.read_excel('document.xlsx', encoding= 'cp949')"
   ]
  },
  {
   "cell_type": "code",
   "execution_count": 16,
   "metadata": {},
   "outputs": [
    {
     "data": {
      "text/html": [
       "<div>\n",
       "<style scoped>\n",
       "    .dataframe tbody tr th:only-of-type {\n",
       "        vertical-align: middle;\n",
       "    }\n",
       "\n",
       "    .dataframe tbody tr th {\n",
       "        vertical-align: top;\n",
       "    }\n",
       "\n",
       "    .dataframe thead th {\n",
       "        text-align: right;\n",
       "    }\n",
       "</style>\n",
       "<table border=\"1\" class=\"dataframe\">\n",
       "  <thead>\n",
       "    <tr style=\"text-align: right;\">\n",
       "      <th></th>\n",
       "      <th>content</th>\n",
       "    </tr>\n",
       "  </thead>\n",
       "  <tbody>\n",
       "    <tr>\n",
       "      <th>0</th>\n",
       "      <td>이동 설치가 가능해 집안 여러 공간에서 사용할 수 있어 편리 냉방면적 26제곱미터…...</td>\n",
       "    </tr>\n",
       "    <tr>\n",
       "      <th>1</th>\n",
       "      <td>LG전자가 집안의 원하는 곳으로 옮겨 사용할 수 있는 이동식 에어컨을 출시한다.</td>\n",
       "    </tr>\n",
       "    <tr>\n",
       "      <th>2</th>\n",
       "      <td>LG전자는 19일부터 28일까지 'LG 이동식 에어컨' 예약판매를 진행하고 29일부...</td>\n",
       "    </tr>\n",
       "    <tr>\n",
       "      <th>3</th>\n",
       "      <td>LG 이동식 에어컨은 주방, 공부방 등 집안 여러 공간에서 에어컨을 사용할 수 있어...</td>\n",
       "    </tr>\n",
       "    <tr>\n",
       "      <th>4</th>\n",
       "      <td>신제품은 냉매를 압축하는 실린더가 2개인 듀얼 인버터 컴프레서를 탑재했다. 한 번에...</td>\n",
       "    </tr>\n",
       "    <tr>\n",
       "      <th>5</th>\n",
       "      <td>이 제품의 냉방면적은 26제곱미터(m2)로 냉방, 송풍, 제습 등 다양한 기능을 갖...</td>\n",
       "    </tr>\n",
       "    <tr>\n",
       "      <th>6</th>\n",
       "      <td>LG전자는 고객이 직접 이동식 에어컨을 간편하게 설치해 사용할 수 있도록 한국의 창...</td>\n",
       "    </tr>\n",
       "    <tr>\n",
       "      <th>7</th>\n",
       "      <td>무선인터넷(Wi-Fi)을 탑재한 모델은 LG 씽큐(LG ThinQ), 구글 어시스턴...</td>\n",
       "    </tr>\n",
       "    <tr>\n",
       "      <th>8</th>\n",
       "      <td>LG 이동식 에어컨은 해외에서도 인정받고 있다. 미국 비즈니스 및 테크 전문매체 비...</td>\n",
       "    </tr>\n",
       "    <tr>\n",
       "      <th>9</th>\n",
       "      <td>신제품의 가격은 출하가 기준 무선인터넷 탑재 모델이 749,000원, 일반 모델이 ...</td>\n",
       "    </tr>\n",
       "    <tr>\n",
       "      <th>10</th>\n",
       "      <td>LG전자 H&amp;A사업본부 에어솔루션사업부장 이감규 부사장은 \"다양하게 활용할 수 있는...</td>\n",
       "    </tr>\n",
       "    <tr>\n",
       "      <th>11</th>\n",
       "      <td>저작권자 © 중소기업뉴스 무단전재 및 재배포 금지</td>\n",
       "    </tr>\n",
       "    <tr>\n",
       "      <th>12</th>\n",
       "      <td>임춘호 기자 다른기사 보기</td>\n",
       "    </tr>\n",
       "  </tbody>\n",
       "</table>\n",
       "</div>"
      ],
      "text/plain": [
       "                                              content\n",
       "0   이동 설치가 가능해 집안 여러 공간에서 사용할 수 있어 편리 냉방면적 26제곱미터…...\n",
       "1        LG전자가 집안의 원하는 곳으로 옮겨 사용할 수 있는 이동식 에어컨을 출시한다.\n",
       "2   LG전자는 19일부터 28일까지 'LG 이동식 에어컨' 예약판매를 진행하고 29일부...\n",
       "3   LG 이동식 에어컨은 주방, 공부방 등 집안 여러 공간에서 에어컨을 사용할 수 있어...\n",
       "4   신제품은 냉매를 압축하는 실린더가 2개인 듀얼 인버터 컴프레서를 탑재했다. 한 번에...\n",
       "5   이 제품의 냉방면적은 26제곱미터(m2)로 냉방, 송풍, 제습 등 다양한 기능을 갖...\n",
       "6   LG전자는 고객이 직접 이동식 에어컨을 간편하게 설치해 사용할 수 있도록 한국의 창...\n",
       "7   무선인터넷(Wi-Fi)을 탑재한 모델은 LG 씽큐(LG ThinQ), 구글 어시스턴...\n",
       "8   LG 이동식 에어컨은 해외에서도 인정받고 있다. 미국 비즈니스 및 테크 전문매체 비...\n",
       "9   신제품의 가격은 출하가 기준 무선인터넷 탑재 모델이 749,000원, 일반 모델이 ...\n",
       "10  LG전자 H&A사업본부 에어솔루션사업부장 이감규 부사장은 \"다양하게 활용할 수 있는...\n",
       "11                        저작권자 © 중소기업뉴스 무단전재 및 재배포 금지\n",
       "12                                     임춘호 기자 다른기사 보기"
      ]
     },
     "execution_count": 16,
     "metadata": {},
     "output_type": "execute_result"
    }
   ],
   "source": [
    "document"
   ]
  },
  {
   "cell_type": "code",
   "execution_count": 17,
   "metadata": {},
   "outputs": [
    {
     "name": "stdout",
     "output_type": "stream",
     "text": [
      "<class 'pandas.core.frame.DataFrame'>\n",
      "RangeIndex: 13 entries, 0 to 12\n",
      "Data columns (total 1 columns):\n",
      " #   Column   Non-Null Count  Dtype \n",
      "---  ------   --------------  ----- \n",
      " 0   content  13 non-null     object\n",
      "dtypes: object(1)\n",
      "memory usage: 232.0+ bytes\n"
     ]
    }
   ],
   "source": [
    "document.info()"
   ]
  },
  {
   "cell_type": "code",
   "execution_count": 18,
   "metadata": {},
   "outputs": [],
   "source": [
    "df = document.dropna(axis=0)"
   ]
  },
  {
   "cell_type": "code",
   "execution_count": 19,
   "metadata": {},
   "outputs": [],
   "source": [
    "import stanza"
   ]
  },
  {
   "cell_type": "code",
   "execution_count": 20,
   "metadata": {},
   "outputs": [
    {
     "name": "stderr",
     "output_type": "stream",
     "text": [
      "2020-05-19 01:11:07 INFO: Loading these models for language: ko (Korean):\n",
      "=======================\n",
      "| Processor | Package |\n",
      "-----------------------\n",
      "| tokenize  | kaist   |\n",
      "| pos       | kaist   |\n",
      "| lemma     | kaist   |\n",
      "| depparse  | kaist   |\n",
      "=======================\n",
      "\n",
      "2020-05-19 01:11:08 INFO: Use device: cpu\n",
      "2020-05-19 01:11:08 INFO: Loading: tokenize\n",
      "2020-05-19 01:11:08 INFO: Loading: pos\n",
      "2020-05-19 01:11:08 INFO: Loading: lemma\n",
      "2020-05-19 01:11:09 INFO: Loading: depparse\n",
      "2020-05-19 01:11:10 INFO: Done loading processors!\n"
     ]
    }
   ],
   "source": [
    "nlp = stanza.Pipeline('ko')"
   ]
  },
  {
   "cell_type": "code",
   "execution_count": 21,
   "metadata": {},
   "outputs": [],
   "source": [
    "def extract_nouns(text):\n",
    "    doc = nlp(text)\n",
    "    for sentence in doc.sentences:\n",
    "        for word in sentence.words:\n",
    "            lemma = word.lemma.split('+') #lemma는 표제어\n",
    "            xpos = word.xpos.split('+')\n",
    "            for lem, pos in zip(lemma, xpos):\n",
    "                if pos.startswith('n'):\n",
    "                    yield lem"
   ]
  },
  {
   "cell_type": "code",
   "execution_count": 5,
   "metadata": {},
   "outputs": [],
   "source": [
    "from sklearn.feature_extraction.text import CountVectorizer"
   ]
  },
  {
   "cell_type": "code",
   "execution_count": 23,
   "metadata": {},
   "outputs": [],
   "source": [
    "cv = CountVectorizer(max_features=100, tokenizer=extract_nouns)"
   ]
  },
  {
   "cell_type": "code",
   "execution_count": 24,
   "metadata": {},
   "outputs": [],
   "source": [
    "tdm = cv.fit_transform(df ['content'])"
   ]
  },
  {
   "cell_type": "code",
   "execution_count": 25,
   "metadata": {},
   "outputs": [
    {
     "data": {
      "text/plain": [
       "(13, 100)"
      ]
     },
     "execution_count": 25,
     "metadata": {},
     "output_type": "execute_result"
    }
   ],
   "source": [
    "tdm.shape"
   ]
  },
  {
   "cell_type": "code",
   "execution_count": 26,
   "metadata": {},
   "outputs": [],
   "source": [
    "word_count = pd.DataFrame({\n",
    "    '단어': cv.get_feature_names(),\n",
    "    '빈도': tdm.sum(axis=0).flat\n",
    "})"
   ]
  },
  {
   "cell_type": "code",
   "execution_count": 27,
   "metadata": {},
   "outputs": [
    {
     "data": {
      "text/html": [
       "<div>\n",
       "<style scoped>\n",
       "    .dataframe tbody tr th:only-of-type {\n",
       "        vertical-align: middle;\n",
       "    }\n",
       "\n",
       "    .dataframe tbody tr th {\n",
       "        vertical-align: top;\n",
       "    }\n",
       "\n",
       "    .dataframe thead th {\n",
       "        text-align: right;\n",
       "    }\n",
       "</style>\n",
       "<table border=\"1\" class=\"dataframe\">\n",
       "  <thead>\n",
       "    <tr style=\"text-align: right;\">\n",
       "      <th></th>\n",
       "      <th>단어</th>\n",
       "      <th>빈도</th>\n",
       "    </tr>\n",
       "  </thead>\n",
       "  <tbody>\n",
       "    <tr>\n",
       "      <th>40</th>\n",
       "      <td>에어컨</td>\n",
       "      <td>11</td>\n",
       "    </tr>\n",
       "    <tr>\n",
       "      <th>33</th>\n",
       "      <td>수</td>\n",
       "      <td>9</td>\n",
       "    </tr>\n",
       "    <tr>\n",
       "      <th>53</th>\n",
       "      <td>이동식</td>\n",
       "      <td>9</td>\n",
       "    </tr>\n",
       "    <tr>\n",
       "      <th>28</th>\n",
       "      <td>사용</td>\n",
       "      <td>6</td>\n",
       "    </tr>\n",
       "    <tr>\n",
       "      <th>30</th>\n",
       "      <td>설치</td>\n",
       "      <td>6</td>\n",
       "    </tr>\n",
       "    <tr>\n",
       "      <th>27</th>\n",
       "      <td>모델</td>\n",
       "      <td>4</td>\n",
       "    </tr>\n",
       "    <tr>\n",
       "      <th>25</th>\n",
       "      <td>등</td>\n",
       "      <td>4</td>\n",
       "    </tr>\n",
       "    <tr>\n",
       "      <th>5</th>\n",
       "      <td>고객</td>\n",
       "      <td>4</td>\n",
       "    </tr>\n",
       "    <tr>\n",
       "      <th>8</th>\n",
       "      <td>공간</td>\n",
       "      <td>4</td>\n",
       "    </tr>\n",
       "    <tr>\n",
       "      <th>88</th>\n",
       "      <td>탑재</td>\n",
       "      <td>3</td>\n",
       "    </tr>\n",
       "    <tr>\n",
       "      <th>38</th>\n",
       "      <td>에너지</td>\n",
       "      <td>3</td>\n",
       "    </tr>\n",
       "    <tr>\n",
       "      <th>15</th>\n",
       "      <td>기능</td>\n",
       "      <td>3</td>\n",
       "    </tr>\n",
       "    <tr>\n",
       "      <th>91</th>\n",
       "      <td>편리</td>\n",
       "      <td>3</td>\n",
       "    </tr>\n",
       "    <tr>\n",
       "      <th>81</th>\n",
       "      <td>최고</td>\n",
       "      <td>3</td>\n",
       "    </tr>\n",
       "    <tr>\n",
       "      <th>76</th>\n",
       "      <td>집안</td>\n",
       "      <td>3</td>\n",
       "    </tr>\n",
       "    <tr>\n",
       "      <th>57</th>\n",
       "      <td>일</td>\n",
       "      <td>3</td>\n",
       "    </tr>\n",
       "    <tr>\n",
       "      <th>70</th>\n",
       "      <td>제품</td>\n",
       "      <td>3</td>\n",
       "    </tr>\n",
       "    <tr>\n",
       "      <th>4</th>\n",
       "      <td>경우</td>\n",
       "      <td>3</td>\n",
       "    </tr>\n",
       "    <tr>\n",
       "      <th>67</th>\n",
       "      <td>제공</td>\n",
       "      <td>3</td>\n",
       "    </tr>\n",
       "    <tr>\n",
       "      <th>77</th>\n",
       "      <td>차별화</td>\n",
       "      <td>2</td>\n",
       "    </tr>\n",
       "  </tbody>\n",
       "</table>\n",
       "</div>"
      ],
      "text/plain": [
       "     단어  빈도\n",
       "40  에어컨  11\n",
       "33    수   9\n",
       "53  이동식   9\n",
       "28   사용   6\n",
       "30   설치   6\n",
       "27   모델   4\n",
       "25    등   4\n",
       "5    고객   4\n",
       "8    공간   4\n",
       "88   탑재   3\n",
       "38  에너지   3\n",
       "15   기능   3\n",
       "91   편리   3\n",
       "81   최고   3\n",
       "76   집안   3\n",
       "57    일   3\n",
       "70   제품   3\n",
       "4    경우   3\n",
       "67   제공   3\n",
       "77  차별화   2"
      ]
     },
     "execution_count": 27,
     "metadata": {},
     "output_type": "execute_result"
    }
   ],
   "source": [
    "word_count.sort_values('빈도', ascending=False).head(20)"
   ]
  },
  {
   "cell_type": "code",
   "execution_count": 28,
   "metadata": {},
   "outputs": [],
   "source": [
    "word_count.to_excel('file-counts_.xlsx')"
   ]
  },
  {
   "cell_type": "code",
   "execution_count": 1,
   "metadata": {},
   "outputs": [],
   "source": [
    "import pandas as pd\n",
    "word_count = pd.read_excel('file-counts1.xlsx')"
   ]
  },
  {
   "cell_type": "code",
   "execution_count": 2,
   "metadata": {},
   "outputs": [],
   "source": [
    "count_dic = word_count.set_index('단어')['빈도'].to_dict()"
   ]
  },
  {
   "cell_type": "code",
   "execution_count": 7,
   "metadata": {},
   "outputs": [
    {
     "name": "stdout",
     "output_type": "stream",
     "text": [
      "Collecting wordcloud\n",
      "  Downloading wordcloud-1.8.1-cp38-cp38-win_amd64.whl (155 kB)\n",
      "Requirement already satisfied: pillow in c:\\users\\jeong\\anaconda3\\lib\\site-packages (from wordcloud) (8.2.0)\n",
      "Requirement already satisfied: matplotlib in c:\\users\\jeong\\anaconda3\\lib\\site-packages (from wordcloud) (3.3.4)\n",
      "Requirement already satisfied: numpy>=1.6.1 in c:\\users\\jeong\\anaconda3\\lib\\site-packages (from wordcloud) (1.20.1)\n",
      "Requirement already satisfied: pyparsing!=2.0.4,!=2.1.2,!=2.1.6,>=2.0.3 in c:\\users\\jeong\\anaconda3\\lib\\site-packages (from matplotlib->wordcloud) (2.4.7)\n",
      "Requirement already satisfied: cycler>=0.10 in c:\\users\\jeong\\anaconda3\\lib\\site-packages (from matplotlib->wordcloud) (0.10.0)\n",
      "Requirement already satisfied: kiwisolver>=1.0.1 in c:\\users\\jeong\\anaconda3\\lib\\site-packages (from matplotlib->wordcloud) (1.3.1)\n",
      "Requirement already satisfied: python-dateutil>=2.1 in c:\\users\\jeong\\anaconda3\\lib\\site-packages (from matplotlib->wordcloud) (2.8.1)\n",
      "Requirement already satisfied: six in c:\\users\\jeong\\anaconda3\\lib\\site-packages (from cycler>=0.10->matplotlib->wordcloud) (1.15.0)\n",
      "Installing collected packages: wordcloud\n",
      "Successfully installed wordcloud-1.8.1\n"
     ]
    }
   ],
   "source": [
    "!pip install wordcloud"
   ]
  },
  {
   "cell_type": "code",
   "execution_count": 8,
   "metadata": {},
   "outputs": [],
   "source": [
    "from wordcloud import WordCloud"
   ]
  },
  {
   "cell_type": "code",
   "execution_count": 9,
   "metadata": {},
   "outputs": [],
   "source": [
    "wc = WordCloud(font_path='C:/Windows/Fonts/NanumGothic.ttf',\n",
    "               background_color='white',\n",
    "               max_words=50,\n",
    "               width=400, height=300)"
   ]
  },
  {
   "cell_type": "code",
   "execution_count": 10,
   "metadata": {},
   "outputs": [],
   "source": [
    "cloud = wc.generate_from_frequencies(count_dic)"
   ]
  },
  {
   "cell_type": "code",
   "execution_count": 11,
   "metadata": {},
   "outputs": [
    {
     "data": {
      "image/png": "[encoded data removed]",
      "text/plain": [
       "<PIL.Image.Image image mode=RGB size=400x300 at 0x1767875D8B0>"
      ]
     },
     "execution_count": 11,
     "metadata": {},
     "output_type": "execute_result"
    }
   ],
   "source": [
    "cloud.to_image()"
   ]
  },
  {
   "cell_type": "code",
   "execution_count": null,
   "metadata": {},
   "outputs": [],
   "source": []
  }
 ],
 "metadata": {
  "kernelspec": {
   "display_name": "Python 3 (ipykernel)",
   "language": "python",
   "name": "python3"
  },
  "language_info": {
   "codemirror_mode": {
    "name": "ipython",
    "version": 3
   },
   "file_extension": ".py",
   "mimetype": "text/x-python",
   "name": "python",
   "nbconvert_exporter": "python",
   "pygments_lexer": "ipython3",
   "version": "3.9.12"
  }
 },
 "nbformat": 4,
 "nbformat_minor": 4
}
