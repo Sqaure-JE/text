{
 "cells": [
  {
   "cell_type": "code",
   "execution_count": 1,
   "id": "d18a0118",
   "metadata": {},
   "outputs": [],
   "source": [
    "news_articles = [\n",
    "    \"삼성전자는 오늘 신제품 발표했다.\",\n",
    "    \"현대자동차와 기아, 전기차 시장에서 선전.\",\n",
    "    \"대통령은 경제 회복을 위한 새로운 정책 발표.\",\n",
    "    \"한국 축구 대표팀, 월드컵에서 큰 승리.\",\n",
    "    \"코로나 백신 접종률, 80% 돌파.\",\n",
    "    \"오늘의 날씨, 맑음.\"\n",
    "]"
   ]
  },
  {
   "cell_type": "code",
   "execution_count": 3,
   "id": "d859f733",
   "metadata": {},
   "outputs": [
    {
     "name": "stdout",
     "output_type": "stream",
     "text": [
      "['현대자동차와 기아, 전기차 시장에서 선전.']\n"
     ]
    }
   ],
   "source": [
    "from sklearn.feature_extraction.text import TfidfVectorizer\n",
    "from sklearn.metrics.pairwise import cosine_similarity\n",
    "\n",
    "class NewsRecommender:\n",
    "    def __init__(self, news_articles):\n",
    "        self.news_articles = news_articles\n",
    "        self.vectorizer = TfidfVectorizer()\n",
    "\n",
    "    def get_related_news(self, keyword, threshold=0.2):\n",
    "        # 크롤링한 뉴스와 키워드를 합쳐서 TF-IDF 행렬 생성\n",
    "        tfidf_matrix = self.vectorizer.fit_transform(self.news_articles + [keyword])\n",
    "\n",
    "        # 키워드와 각 뉴스 기사 간의 cosine similarity 계산\n",
    "        cosine_similarities = cosine_similarity(tfidf_matrix[-1], tfidf_matrix[:-1])[0]\n",
    "\n",
    "        # 유사도가 임계값보다 높은 뉴스만 선택\n",
    "        related_news = [news for i, news in enumerate(self.news_articles) if cosine_similarities[i] > threshold]\n",
    "\n",
    "        return related_news\n",
    "\n",
    "\n",
    "# 사용법:\n",
    "recommender = NewsRecommender(news_articles)\n",
    "keyword = \"전기차\"\n",
    "related_articles = recommender.get_related_news(keyword)\n",
    "\n",
    "print(related_articles)"
   ]
  },
  {
   "cell_type": "code",
   "execution_count": null,
   "id": "d8e41389",
   "metadata": {},
   "outputs": [],
   "source": []
  },
  {
   "cell_type": "code",
   "execution_count": 5,
   "id": "00235934",
   "metadata": {},
   "outputs": [
    {
     "ename": "ModuleNotFoundError",
     "evalue": "No module named 'konlpy'",
     "output_type": "error",
     "traceback": [
      "\u001b[1;31m---------------------------------------------------------------------------\u001b[0m",
      "\u001b[1;31mModuleNotFoundError\u001b[0m                       Traceback (most recent call last)",
      "Input \u001b[1;32mIn [5]\u001b[0m, in \u001b[0;36m<cell line: 1>\u001b[1;34m()\u001b[0m\n\u001b[1;32m----> 1\u001b[0m \u001b[38;5;28;01mfrom\u001b[39;00m \u001b[38;5;21;01mkonlpy\u001b[39;00m\u001b[38;5;21;01m.\u001b[39;00m\u001b[38;5;21;01mtag\u001b[39;00m \u001b[38;5;28;01mimport\u001b[39;00m Okt\n\u001b[0;32m      3\u001b[0m \u001b[38;5;28;01mclass\u001b[39;00m \u001b[38;5;21;01mOktTokenizer\u001b[39;00m:\n\u001b[0;32m      4\u001b[0m     \u001b[38;5;28;01mdef\u001b[39;00m \u001b[38;5;21m__init__\u001b[39m(\u001b[38;5;28mself\u001b[39m):\n",
      "\u001b[1;31mModuleNotFoundError\u001b[0m: No module named 'konlpy'"
     ]
    }
   ],
   "source": [
    "class DynamicThresholdRecommender:\n",
    "    def __init__(self, news_articles, vectorizer):\n",
    "        self.news_articles = news_articles\n",
    "        self.vectorizer = vectorizer\n",
    "\n",
    "    def get_related_news(self, keyword, initial_threshold=0.5, step=0.05):\n",
    "        # 크롤링한 뉴스와 키워드를 합쳐서 TF-IDF 행렬 생성\n",
    "        tfidf_matrix = self.vectorizer.fit_transform(self.news_articles + [keyword])\n",
    "\n",
    "        # 키워드와 각 뉴스 기사 간의 cosine similarity 계산\n",
    "        cosine_similarities = cosine_similarity(tfidf_matrix[-1], tfidf_matrix[:-1])[0]\n",
    "\n",
    "        threshold = initial_threshold\n",
    "        while threshold > 0:\n",
    "            # 유사도가 임계값보다 높은 뉴스만 선택\n",
    "            related_news = [news for i, news in enumerate(self.news_articles) if cosine_similarities[i] > threshold]\n",
    "            \n",
    "            if related_news:\n",
    "                return related_news, threshold\n",
    "            threshold -= step\n",
    "        return [], threshold\n",
    "\n",
    "# 기존의 TfidfVectorizer 사용\n",
    "vectorizer = TfidfVectorizer()\n",
    "\n",
    "# 키워드로 \"전기차 배터리\"를 사용하여 관련 뉴스를 추천받는다.\n",
    "recommender = DynamicThresholdRecommender(news_articles, vectorizer)\n",
    "related_articles, final_threshold = recommender.get_related_news(\"전기차 배터리\")\n",
    "\n",
    "related_articles, final_threshold\n"
   ]
  },
  {
   "cell_type": "code",
   "execution_count": null,
   "id": "21e66a98",
   "metadata": {},
   "outputs": [],
   "source": []
  }
 ],
 "metadata": {
  "kernelspec": {
   "display_name": "Python 3 (ipykernel)",
   "language": "python",
   "name": "python3"
  },
  "language_info": {
   "codemirror_mode": {
    "name": "ipython",
    "version": 3
   },
   "file_extension": ".py",
   "mimetype": "text/x-python",
   "name": "python",
   "nbconvert_exporter": "python",
   "pygments_lexer": "ipython3",
   "version": "3.9.12"
  }
 },
 "nbformat": 4,
 "nbformat_minor": 5
}
