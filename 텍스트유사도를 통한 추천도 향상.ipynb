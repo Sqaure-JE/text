{
 "cells": [
  {
   "cell_type": "code",
   "execution_count": 1,
   "id": "bdf59e7e",
   "metadata": {},
   "outputs": [],
   "source": [
    "news_articles = [\n",
    "    \"삼성전자는 오늘 신제품 발표했다.\",\n",
    "    \"현대자동차와 기아, 전기차 시장에서 선전.\",\n",
    "    \"대통령은 경제 회복을 위한 새로운 정책 발표.\",\n",
    "    \"한국 축구 대표팀, 월드컵에서 큰 승리.\",\n",
    "    \"코로나 백신 접종률, 80% 돌파.\",\n",
    "    \"오늘의 날씨, 맑음.\"\n",
    "]"
   ]
  },
  {
   "cell_type": "code",
   "execution_count": 3,
   "id": "92f30a1c",
   "metadata": {},
   "outputs": [
    {
     "name": "stdout",
     "output_type": "stream",
     "text": [
      "['현대자동차와 기아, 전기차 시장에서 선전.']\n"
     ]
    }
   ],
   "source": [
    "from sklearn.feature_extraction.text import TfidfVectorizer\n",
    "from sklearn.metrics.pairwise import cosine_similarity\n",
    "\n",
    "class NewsRecommender:\n",
    "    def __init__(self, news_articles):\n",
    "        self.news_articles = news_articles\n",
    "        self.vectorizer = TfidfVectorizer()\n",
    "\n",
    "    def get_related_news(self, keyword, threshold=0.2):\n",
    "        # 크롤링한 뉴스와 키워드를 합쳐서 TF-IDF 행렬 생성\n",
    "        tfidf_matrix = self.vectorizer.fit_transform(self.news_articles + [keyword])\n",
    "\n",
    "        # 키워드와 각 뉴스 기사 간의 cosine similarity 계산\n",
    "        cosine_similarities = cosine_similarity(tfidf_matrix[-1], tfidf_matrix[:-1])[0]\n",
    "\n",
    "        # 유사도가 임계값보다 높은 뉴스만 선택\n",
    "        related_news = [news for i, news in enumerate(self.news_articles) if cosine_similarities[i] > threshold]\n",
    "\n",
    "        return related_news\n",
    "\n",
    "\n",
    "# 사용법:\n",
    "recommender = NewsRecommender(news_articles)\n",
    "keyword = \"전기차\"\n",
    "related_articles = recommender.get_related_news(keyword)\n",
    "\n",
    "print(related_articles)"
   ]
  },
  {
   "cell_type": "code",
   "execution_count": 6,
   "id": "ad5a329d",
   "metadata": {},
   "outputs": [],
   "source": [
    "news_articles = [\n",
    "    \"삼성전자, 전기차 배터리 시장 진출 계획 발표.\",\n",
    "    \"현대자동차와 기아, 전기차 시장 점유율 1위.\",\n",
    "    \"전기차 인프라 확충, 정부의 새로운 녹색 정책.\",\n",
    "    \"전기차 충전소, 전국에 1만 개가 넘게 설치될 예정.\",\n",
    "    \"테슬라, 한국 전기차 시장에서도 강세.\",\n",
    "    \"전기차의 미래, 자율주행과 결합될 것.\"\n",
    "]"
   ]
  },
  {
   "cell_type": "code",
   "execution_count": 7,
   "id": "ccfdf2e4",
   "metadata": {},
   "outputs": [
    {
     "data": {
      "text/plain": [
       "(['삼성전자, 전기차 배터리 시장 진출 계획 발표.'], 0.4)"
      ]
     },
     "execution_count": 7,
     "metadata": {},
     "output_type": "execute_result"
    }
   ],
   "source": [
    "class DynamicThresholdRecommender:\n",
    "    def __init__(self, news_articles, vectorizer):\n",
    "        self.news_articles = news_articles\n",
    "        self.vectorizer = vectorizer\n",
    "\n",
    "    def get_related_news(self, keyword, initial_threshold=0.5, step=0.05):\n",
    "        # 크롤링한 뉴스와 키워드를 합쳐서 TF-IDF 행렬 생성\n",
    "        tfidf_matrix = self.vectorizer.fit_transform(self.news_articles + [keyword])\n",
    "\n",
    "        # 키워드와 각 뉴스 기사 간의 cosine similarity 계산\n",
    "        cosine_similarities = cosine_similarity(tfidf_matrix[-1], tfidf_matrix[:-1])[0]\n",
    "\n",
    "        threshold = initial_threshold\n",
    "        while threshold > 0:\n",
    "            # 유사도가 임계값보다 높은 뉴스만 선택\n",
    "            related_news = [news for i, news in enumerate(self.news_articles) if cosine_similarities[i] > threshold]\n",
    "            \n",
    "            if related_news:\n",
    "                return related_news, threshold\n",
    "            threshold -= step\n",
    "        return [], threshold\n",
    "\n",
    "# 기존의 TfidfVectorizer 사용\n",
    "vectorizer = TfidfVectorizer()\n",
    "\n",
    "# 키워드로 \"전기차 배터리\"를 사용하여 관련 뉴스를 추천받는다.\n",
    "recommender = DynamicThresholdRecommender(news_articles, vectorizer)\n",
    "related_articles, final_threshold = recommender.get_related_news(\"전기차 배터리\")\n",
    "\n",
    "related_articles, final_threshold\n"
   ]
  },
  {
   "cell_type": "code",
   "execution_count": null,
   "id": "99446312",
   "metadata": {},
   "outputs": [],
   "source": []
  }
 ],
 "metadata": {
  "kernelspec": {
   "display_name": "Python 3 (ipykernel)",
   "language": "python",
   "name": "python3"
  },
  "language_info": {
   "codemirror_mode": {
    "name": "ipython",
    "version": 3
   },
   "file_extension": ".py",
   "mimetype": "text/x-python",
   "name": "python",
   "nbconvert_exporter": "python",
   "pygments_lexer": "ipython3",
   "version": "3.9.12"
  }
 },
 "nbformat": 4,
 "nbformat_minor": 5
}
